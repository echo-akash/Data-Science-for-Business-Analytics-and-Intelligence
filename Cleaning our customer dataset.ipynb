{
 "cells": [
  {
   "cell_type": "markdown",
   "metadata": {},
   "source": [
    "# Cleaning our customer dataset"
   ]
  },
  {
   "cell_type": "markdown",
   "metadata": {},
   "source": [
    "In this lesson, we will be focusing on cleaning the customer dataset we optimized in the previous lesson.\n",
    "\n",
    "Our goal with this lesson is to learn various data cleaning steps in order to get the data ready for analysis. Data cleaning methodologies vary from dataset to dataset, however, this lesson will give you a clear idea about the things you should focus on and also the things you should try to ignore when cleaning data."
   ]
  },
  {
   "cell_type": "markdown",
   "metadata": {},
   "source": [
    "Let us start by importing the necessary libraries,"
   ]
  },
  {
   "cell_type": "code",
   "execution_count": 1,
   "metadata": {},
   "outputs": [],
   "source": [
    "import pandas as pd"
   ]
  },
  {
   "cell_type": "markdown",
   "metadata": {},
   "source": [
    "Next, importing the CSV file called `optimized_gstore_data.csv` which contains optimized information about each user's website visit along with the revenue they generated for Google. "
   ]
  },
  {
   "cell_type": "code",
   "execution_count": 2,
   "metadata": {},
   "outputs": [],
   "source": [
    "# Reading in the CSV file as a DataFrame \n",
    "store_df = pd.read_csv('data/optimized_gstore_data.csv', low_memory=False)"
   ]
  },
  {
   "cell_type": "code",
   "execution_count": 3,
   "metadata": {},
   "outputs": [
    {
     "data": {
      "text/html": [
       "<div>\n",
       "<style scoped>\n",
       "    .dataframe tbody tr th:only-of-type {\n",
       "        vertical-align: middle;\n",
       "    }\n",
       "\n",
       "    .dataframe tbody tr th {\n",
       "        vertical-align: top;\n",
       "    }\n",
       "\n",
       "    .dataframe thead th {\n",
       "        text-align: right;\n",
       "    }\n",
       "</style>\n",
       "<table border=\"1\" class=\"dataframe\">\n",
       "  <thead>\n",
       "    <tr style=\"text-align: right;\">\n",
       "      <th></th>\n",
       "      <th>channelGrouping</th>\n",
       "      <th>date</th>\n",
       "      <th>fullVisitorId</th>\n",
       "      <th>visitId</th>\n",
       "      <th>visitNumber</th>\n",
       "      <th>visitStartTime</th>\n",
       "      <th>device.browser</th>\n",
       "      <th>device.operatingSystem</th>\n",
       "      <th>device.isMobile</th>\n",
       "      <th>device.deviceCategory</th>\n",
       "      <th>...</th>\n",
       "      <th>trafficSource.keyword</th>\n",
       "      <th>trafficSource.isTrueDirect</th>\n",
       "      <th>trafficSource.referralPath</th>\n",
       "      <th>trafficSource.adwordsClickInfo.page</th>\n",
       "      <th>trafficSource.adwordsClickInfo.slot</th>\n",
       "      <th>trafficSource.adwordsClickInfo.gclId</th>\n",
       "      <th>trafficSource.adwordsClickInfo.adNetworkType</th>\n",
       "      <th>trafficSource.adwordsClickInfo.isVideoAd</th>\n",
       "      <th>trafficSource.adContent</th>\n",
       "      <th>trafficSource.campaignCode</th>\n",
       "    </tr>\n",
       "  </thead>\n",
       "  <tbody>\n",
       "    <tr>\n",
       "      <th>0</th>\n",
       "      <td>Organic Search</td>\n",
       "      <td>20160902</td>\n",
       "      <td>1131660440785968503</td>\n",
       "      <td>1472830385</td>\n",
       "      <td>1</td>\n",
       "      <td>1472830385</td>\n",
       "      <td>Chrome</td>\n",
       "      <td>Windows</td>\n",
       "      <td>False</td>\n",
       "      <td>desktop</td>\n",
       "      <td>...</td>\n",
       "      <td>(not provided)</td>\n",
       "      <td>NaN</td>\n",
       "      <td>NaN</td>\n",
       "      <td>NaN</td>\n",
       "      <td>NaN</td>\n",
       "      <td>NaN</td>\n",
       "      <td>NaN</td>\n",
       "      <td>NaN</td>\n",
       "      <td>NaN</td>\n",
       "      <td>NaN</td>\n",
       "    </tr>\n",
       "    <tr>\n",
       "      <th>1</th>\n",
       "      <td>Organic Search</td>\n",
       "      <td>20160902</td>\n",
       "      <td>377306020877927890</td>\n",
       "      <td>1472880147</td>\n",
       "      <td>1</td>\n",
       "      <td>1472880147</td>\n",
       "      <td>Firefox</td>\n",
       "      <td>Macintosh</td>\n",
       "      <td>False</td>\n",
       "      <td>desktop</td>\n",
       "      <td>...</td>\n",
       "      <td>(not provided)</td>\n",
       "      <td>NaN</td>\n",
       "      <td>NaN</td>\n",
       "      <td>NaN</td>\n",
       "      <td>NaN</td>\n",
       "      <td>NaN</td>\n",
       "      <td>NaN</td>\n",
       "      <td>NaN</td>\n",
       "      <td>NaN</td>\n",
       "      <td>NaN</td>\n",
       "    </tr>\n",
       "    <tr>\n",
       "      <th>2</th>\n",
       "      <td>Organic Search</td>\n",
       "      <td>20160902</td>\n",
       "      <td>3895546263509774583</td>\n",
       "      <td>1472865386</td>\n",
       "      <td>1</td>\n",
       "      <td>1472865386</td>\n",
       "      <td>Chrome</td>\n",
       "      <td>Windows</td>\n",
       "      <td>False</td>\n",
       "      <td>desktop</td>\n",
       "      <td>...</td>\n",
       "      <td>(not provided)</td>\n",
       "      <td>NaN</td>\n",
       "      <td>NaN</td>\n",
       "      <td>NaN</td>\n",
       "      <td>NaN</td>\n",
       "      <td>NaN</td>\n",
       "      <td>NaN</td>\n",
       "      <td>NaN</td>\n",
       "      <td>NaN</td>\n",
       "      <td>NaN</td>\n",
       "    </tr>\n",
       "    <tr>\n",
       "      <th>3</th>\n",
       "      <td>Organic Search</td>\n",
       "      <td>20160902</td>\n",
       "      <td>4763447161404445595</td>\n",
       "      <td>1472881213</td>\n",
       "      <td>1</td>\n",
       "      <td>1472881213</td>\n",
       "      <td>UC Browser</td>\n",
       "      <td>Linux</td>\n",
       "      <td>False</td>\n",
       "      <td>desktop</td>\n",
       "      <td>...</td>\n",
       "      <td>google + online</td>\n",
       "      <td>NaN</td>\n",
       "      <td>NaN</td>\n",
       "      <td>NaN</td>\n",
       "      <td>NaN</td>\n",
       "      <td>NaN</td>\n",
       "      <td>NaN</td>\n",
       "      <td>NaN</td>\n",
       "      <td>NaN</td>\n",
       "      <td>NaN</td>\n",
       "    </tr>\n",
       "    <tr>\n",
       "      <th>4</th>\n",
       "      <td>Organic Search</td>\n",
       "      <td>20160902</td>\n",
       "      <td>27294437909732085</td>\n",
       "      <td>1472822600</td>\n",
       "      <td>2</td>\n",
       "      <td>1472822600</td>\n",
       "      <td>Chrome</td>\n",
       "      <td>Android</td>\n",
       "      <td>True</td>\n",
       "      <td>mobile</td>\n",
       "      <td>...</td>\n",
       "      <td>(not provided)</td>\n",
       "      <td>True</td>\n",
       "      <td>NaN</td>\n",
       "      <td>NaN</td>\n",
       "      <td>NaN</td>\n",
       "      <td>NaN</td>\n",
       "      <td>NaN</td>\n",
       "      <td>NaN</td>\n",
       "      <td>NaN</td>\n",
       "      <td>NaN</td>\n",
       "    </tr>\n",
       "  </tbody>\n",
       "</table>\n",
       "<p>5 rows × 35 columns</p>\n",
       "</div>"
      ],
      "text/plain": [
       "  channelGrouping      date        fullVisitorId     visitId  visitNumber  \\\n",
       "0  Organic Search  20160902  1131660440785968503  1472830385            1   \n",
       "1  Organic Search  20160902   377306020877927890  1472880147            1   \n",
       "2  Organic Search  20160902  3895546263509774583  1472865386            1   \n",
       "3  Organic Search  20160902  4763447161404445595  1472881213            1   \n",
       "4  Organic Search  20160902    27294437909732085  1472822600            2   \n",
       "\n",
       "   visitStartTime device.browser device.operatingSystem  device.isMobile  \\\n",
       "0      1472830385         Chrome                Windows            False   \n",
       "1      1472880147        Firefox              Macintosh            False   \n",
       "2      1472865386         Chrome                Windows            False   \n",
       "3      1472881213     UC Browser                  Linux            False   \n",
       "4      1472822600         Chrome                Android             True   \n",
       "\n",
       "  device.deviceCategory  ... trafficSource.keyword trafficSource.isTrueDirect  \\\n",
       "0               desktop  ...        (not provided)                        NaN   \n",
       "1               desktop  ...        (not provided)                        NaN   \n",
       "2               desktop  ...        (not provided)                        NaN   \n",
       "3               desktop  ...       google + online                        NaN   \n",
       "4                mobile  ...        (not provided)                       True   \n",
       "\n",
       "  trafficSource.referralPath trafficSource.adwordsClickInfo.page  \\\n",
       "0                        NaN                                 NaN   \n",
       "1                        NaN                                 NaN   \n",
       "2                        NaN                                 NaN   \n",
       "3                        NaN                                 NaN   \n",
       "4                        NaN                                 NaN   \n",
       "\n",
       "  trafficSource.adwordsClickInfo.slot trafficSource.adwordsClickInfo.gclId  \\\n",
       "0                                 NaN                                  NaN   \n",
       "1                                 NaN                                  NaN   \n",
       "2                                 NaN                                  NaN   \n",
       "3                                 NaN                                  NaN   \n",
       "4                                 NaN                                  NaN   \n",
       "\n",
       "  trafficSource.adwordsClickInfo.adNetworkType  \\\n",
       "0                                          NaN   \n",
       "1                                          NaN   \n",
       "2                                          NaN   \n",
       "3                                          NaN   \n",
       "4                                          NaN   \n",
       "\n",
       "   trafficSource.adwordsClickInfo.isVideoAd  trafficSource.adContent  \\\n",
       "0                                       NaN                      NaN   \n",
       "1                                       NaN                      NaN   \n",
       "2                                       NaN                      NaN   \n",
       "3                                       NaN                      NaN   \n",
       "4                                       NaN                      NaN   \n",
       "\n",
       "   trafficSource.campaignCode  \n",
       "0                         NaN  \n",
       "1                         NaN  \n",
       "2                         NaN  \n",
       "3                         NaN  \n",
       "4                         NaN  \n",
       "\n",
       "[5 rows x 35 columns]"
      ]
     },
     "execution_count": 3,
     "metadata": {},
     "output_type": "execute_result"
    }
   ],
   "source": [
    "# Looking at the first five rows\n",
    "store_df.head()"
   ]
  },
  {
   "cell_type": "markdown",
   "metadata": {},
   "source": [
    "As a first step in our data cleaning process, let us standardize our date and time columns by converting it into Pandas datetime format. This will help us Pandas ready-made functions as needed in the future."
   ]
  },
  {
   "cell_type": "code",
   "execution_count": 4,
   "metadata": {},
   "outputs": [
    {
     "data": {
      "text/plain": [
       "numpy.int64"
      ]
     },
     "execution_count": 4,
     "metadata": {},
     "output_type": "execute_result"
    }
   ],
   "source": [
    "# Checking the data type of the date column\n",
    "type(store_df['date'][0])"
   ]
  },
  {
   "cell_type": "code",
   "execution_count": 5,
   "metadata": {},
   "outputs": [],
   "source": [
    "# Converting the date column into a string data type\n",
    "store_df['date'] = store_df['date'].astype(str)"
   ]
  },
  {
   "cell_type": "code",
   "execution_count": 6,
   "metadata": {},
   "outputs": [
    {
     "data": {
      "text/plain": [
       "0         2016\n",
       "1         2016\n",
       "2         2016\n",
       "3         2016\n",
       "4         2016\n",
       "          ... \n",
       "903648    2017\n",
       "903649    2017\n",
       "903650    2017\n",
       "903651    2017\n",
       "903652    2017\n",
       "Name: date, Length: 903653, dtype: object"
      ]
     },
     "execution_count": 6,
     "metadata": {},
     "output_type": "execute_result"
    }
   ],
   "source": [
    "# Getting the year\n",
    "store_df['date'].apply(lambda x: x[:4])"
   ]
  },
  {
   "cell_type": "code",
   "execution_count": 7,
   "metadata": {},
   "outputs": [
    {
     "data": {
      "text/plain": [
       "0         2016-09-02\n",
       "1         2016-09-02\n",
       "2         2016-09-02\n",
       "3         2016-09-02\n",
       "4         2016-09-02\n",
       "             ...    \n",
       "903648    2017-01-04\n",
       "903649    2017-01-04\n",
       "903650    2017-01-04\n",
       "903651    2017-01-04\n",
       "903652    2017-01-04\n",
       "Name: date, Length: 903653, dtype: object"
      ]
     },
     "execution_count": 7,
     "metadata": {},
     "output_type": "execute_result"
    }
   ],
   "source": [
    "# Getting the month and day\n",
    "store_df['date'].apply(lambda x: x[:4] + '-' + x[4:6] + '-'+ x[6:])"
   ]
  },
  {
   "cell_type": "code",
   "execution_count": 8,
   "metadata": {},
   "outputs": [],
   "source": [
    "# Re-assigning the new Pandas series to the date column\n",
    "store_df['date'] = store_df['date'].apply(lambda x: x[:4] + '-' + x[4:6] + '-'+ x[6:])"
   ]
  },
  {
   "cell_type": "code",
   "execution_count": 9,
   "metadata": {},
   "outputs": [
    {
     "data": {
      "text/plain": [
       "0         2016-09-02\n",
       "1         2016-09-02\n",
       "2         2016-09-02\n",
       "3         2016-09-02\n",
       "4         2016-09-02\n",
       "             ...    \n",
       "903648    2017-01-04\n",
       "903649    2017-01-04\n",
       "903650    2017-01-04\n",
       "903651    2017-01-04\n",
       "903652    2017-01-04\n",
       "Name: date, Length: 903653, dtype: object"
      ]
     },
     "execution_count": 9,
     "metadata": {},
     "output_type": "execute_result"
    }
   ],
   "source": [
    "# Printing the date column's calues\n",
    "store_df['date']"
   ]
  },
  {
   "cell_type": "code",
   "execution_count": 10,
   "metadata": {},
   "outputs": [
    {
     "data": {
      "text/html": [
       "<div>\n",
       "<style scoped>\n",
       "    .dataframe tbody tr th:only-of-type {\n",
       "        vertical-align: middle;\n",
       "    }\n",
       "\n",
       "    .dataframe tbody tr th {\n",
       "        vertical-align: top;\n",
       "    }\n",
       "\n",
       "    .dataframe thead th {\n",
       "        text-align: right;\n",
       "    }\n",
       "</style>\n",
       "<table border=\"1\" class=\"dataframe\">\n",
       "  <thead>\n",
       "    <tr style=\"text-align: right;\">\n",
       "      <th></th>\n",
       "      <th>channelGrouping</th>\n",
       "      <th>date</th>\n",
       "      <th>fullVisitorId</th>\n",
       "      <th>visitId</th>\n",
       "      <th>visitNumber</th>\n",
       "      <th>visitStartTime</th>\n",
       "      <th>device.browser</th>\n",
       "      <th>device.operatingSystem</th>\n",
       "      <th>device.isMobile</th>\n",
       "      <th>device.deviceCategory</th>\n",
       "      <th>...</th>\n",
       "      <th>trafficSource.keyword</th>\n",
       "      <th>trafficSource.isTrueDirect</th>\n",
       "      <th>trafficSource.referralPath</th>\n",
       "      <th>trafficSource.adwordsClickInfo.page</th>\n",
       "      <th>trafficSource.adwordsClickInfo.slot</th>\n",
       "      <th>trafficSource.adwordsClickInfo.gclId</th>\n",
       "      <th>trafficSource.adwordsClickInfo.adNetworkType</th>\n",
       "      <th>trafficSource.adwordsClickInfo.isVideoAd</th>\n",
       "      <th>trafficSource.adContent</th>\n",
       "      <th>trafficSource.campaignCode</th>\n",
       "    </tr>\n",
       "  </thead>\n",
       "  <tbody>\n",
       "    <tr>\n",
       "      <th>0</th>\n",
       "      <td>Organic Search</td>\n",
       "      <td>2016-09-02</td>\n",
       "      <td>1131660440785968503</td>\n",
       "      <td>1472830385</td>\n",
       "      <td>1</td>\n",
       "      <td>1472830385</td>\n",
       "      <td>Chrome</td>\n",
       "      <td>Windows</td>\n",
       "      <td>False</td>\n",
       "      <td>desktop</td>\n",
       "      <td>...</td>\n",
       "      <td>(not provided)</td>\n",
       "      <td>NaN</td>\n",
       "      <td>NaN</td>\n",
       "      <td>NaN</td>\n",
       "      <td>NaN</td>\n",
       "      <td>NaN</td>\n",
       "      <td>NaN</td>\n",
       "      <td>NaN</td>\n",
       "      <td>NaN</td>\n",
       "      <td>NaN</td>\n",
       "    </tr>\n",
       "    <tr>\n",
       "      <th>1</th>\n",
       "      <td>Organic Search</td>\n",
       "      <td>2016-09-02</td>\n",
       "      <td>377306020877927890</td>\n",
       "      <td>1472880147</td>\n",
       "      <td>1</td>\n",
       "      <td>1472880147</td>\n",
       "      <td>Firefox</td>\n",
       "      <td>Macintosh</td>\n",
       "      <td>False</td>\n",
       "      <td>desktop</td>\n",
       "      <td>...</td>\n",
       "      <td>(not provided)</td>\n",
       "      <td>NaN</td>\n",
       "      <td>NaN</td>\n",
       "      <td>NaN</td>\n",
       "      <td>NaN</td>\n",
       "      <td>NaN</td>\n",
       "      <td>NaN</td>\n",
       "      <td>NaN</td>\n",
       "      <td>NaN</td>\n",
       "      <td>NaN</td>\n",
       "    </tr>\n",
       "    <tr>\n",
       "      <th>2</th>\n",
       "      <td>Organic Search</td>\n",
       "      <td>2016-09-02</td>\n",
       "      <td>3895546263509774583</td>\n",
       "      <td>1472865386</td>\n",
       "      <td>1</td>\n",
       "      <td>1472865386</td>\n",
       "      <td>Chrome</td>\n",
       "      <td>Windows</td>\n",
       "      <td>False</td>\n",
       "      <td>desktop</td>\n",
       "      <td>...</td>\n",
       "      <td>(not provided)</td>\n",
       "      <td>NaN</td>\n",
       "      <td>NaN</td>\n",
       "      <td>NaN</td>\n",
       "      <td>NaN</td>\n",
       "      <td>NaN</td>\n",
       "      <td>NaN</td>\n",
       "      <td>NaN</td>\n",
       "      <td>NaN</td>\n",
       "      <td>NaN</td>\n",
       "    </tr>\n",
       "    <tr>\n",
       "      <th>3</th>\n",
       "      <td>Organic Search</td>\n",
       "      <td>2016-09-02</td>\n",
       "      <td>4763447161404445595</td>\n",
       "      <td>1472881213</td>\n",
       "      <td>1</td>\n",
       "      <td>1472881213</td>\n",
       "      <td>UC Browser</td>\n",
       "      <td>Linux</td>\n",
       "      <td>False</td>\n",
       "      <td>desktop</td>\n",
       "      <td>...</td>\n",
       "      <td>google + online</td>\n",
       "      <td>NaN</td>\n",
       "      <td>NaN</td>\n",
       "      <td>NaN</td>\n",
       "      <td>NaN</td>\n",
       "      <td>NaN</td>\n",
       "      <td>NaN</td>\n",
       "      <td>NaN</td>\n",
       "      <td>NaN</td>\n",
       "      <td>NaN</td>\n",
       "    </tr>\n",
       "    <tr>\n",
       "      <th>4</th>\n",
       "      <td>Organic Search</td>\n",
       "      <td>2016-09-02</td>\n",
       "      <td>27294437909732085</td>\n",
       "      <td>1472822600</td>\n",
       "      <td>2</td>\n",
       "      <td>1472822600</td>\n",
       "      <td>Chrome</td>\n",
       "      <td>Android</td>\n",
       "      <td>True</td>\n",
       "      <td>mobile</td>\n",
       "      <td>...</td>\n",
       "      <td>(not provided)</td>\n",
       "      <td>True</td>\n",
       "      <td>NaN</td>\n",
       "      <td>NaN</td>\n",
       "      <td>NaN</td>\n",
       "      <td>NaN</td>\n",
       "      <td>NaN</td>\n",
       "      <td>NaN</td>\n",
       "      <td>NaN</td>\n",
       "      <td>NaN</td>\n",
       "    </tr>\n",
       "  </tbody>\n",
       "</table>\n",
       "<p>5 rows × 35 columns</p>\n",
       "</div>"
      ],
      "text/plain": [
       "  channelGrouping       date        fullVisitorId     visitId  visitNumber  \\\n",
       "0  Organic Search 2016-09-02  1131660440785968503  1472830385            1   \n",
       "1  Organic Search 2016-09-02   377306020877927890  1472880147            1   \n",
       "2  Organic Search 2016-09-02  3895546263509774583  1472865386            1   \n",
       "3  Organic Search 2016-09-02  4763447161404445595  1472881213            1   \n",
       "4  Organic Search 2016-09-02    27294437909732085  1472822600            2   \n",
       "\n",
       "   visitStartTime device.browser device.operatingSystem  device.isMobile  \\\n",
       "0      1472830385         Chrome                Windows            False   \n",
       "1      1472880147        Firefox              Macintosh            False   \n",
       "2      1472865386         Chrome                Windows            False   \n",
       "3      1472881213     UC Browser                  Linux            False   \n",
       "4      1472822600         Chrome                Android             True   \n",
       "\n",
       "  device.deviceCategory  ... trafficSource.keyword trafficSource.isTrueDirect  \\\n",
       "0               desktop  ...        (not provided)                        NaN   \n",
       "1               desktop  ...        (not provided)                        NaN   \n",
       "2               desktop  ...        (not provided)                        NaN   \n",
       "3               desktop  ...       google + online                        NaN   \n",
       "4                mobile  ...        (not provided)                       True   \n",
       "\n",
       "  trafficSource.referralPath trafficSource.adwordsClickInfo.page  \\\n",
       "0                        NaN                                 NaN   \n",
       "1                        NaN                                 NaN   \n",
       "2                        NaN                                 NaN   \n",
       "3                        NaN                                 NaN   \n",
       "4                        NaN                                 NaN   \n",
       "\n",
       "  trafficSource.adwordsClickInfo.slot trafficSource.adwordsClickInfo.gclId  \\\n",
       "0                                 NaN                                  NaN   \n",
       "1                                 NaN                                  NaN   \n",
       "2                                 NaN                                  NaN   \n",
       "3                                 NaN                                  NaN   \n",
       "4                                 NaN                                  NaN   \n",
       "\n",
       "  trafficSource.adwordsClickInfo.adNetworkType  \\\n",
       "0                                          NaN   \n",
       "1                                          NaN   \n",
       "2                                          NaN   \n",
       "3                                          NaN   \n",
       "4                                          NaN   \n",
       "\n",
       "   trafficSource.adwordsClickInfo.isVideoAd  trafficSource.adContent  \\\n",
       "0                                       NaN                      NaN   \n",
       "1                                       NaN                      NaN   \n",
       "2                                       NaN                      NaN   \n",
       "3                                       NaN                      NaN   \n",
       "4                                       NaN                      NaN   \n",
       "\n",
       "   trafficSource.campaignCode  \n",
       "0                         NaN  \n",
       "1                         NaN  \n",
       "2                         NaN  \n",
       "3                         NaN  \n",
       "4                         NaN  \n",
       "\n",
       "[5 rows x 35 columns]"
      ]
     },
     "execution_count": 10,
     "metadata": {},
     "output_type": "execute_result"
    }
   ],
   "source": [
    "# Converting it into datetime.date value\n",
    "store_df['date'] = pd.to_datetime(store_df['date'])\n",
    "\n",
    "# Looking at the first five rows\n",
    "store_df.head()"
   ]
  },
  {
   "cell_type": "code",
   "execution_count": 11,
   "metadata": {},
   "outputs": [
    {
     "data": {
      "text/plain": [
       "0        2016-09-02\n",
       "1        2016-09-02\n",
       "2        2016-09-02\n",
       "3        2016-09-02\n",
       "4        2016-09-02\n",
       "            ...    \n",
       "903648   2017-01-04\n",
       "903649   2017-01-04\n",
       "903650   2017-01-04\n",
       "903651   2017-01-04\n",
       "903652   2017-01-04\n",
       "Name: date, Length: 903653, dtype: datetime64[ns]"
      ]
     },
     "execution_count": 11,
     "metadata": {},
     "output_type": "execute_result"
    }
   ],
   "source": [
    "store_df['date']"
   ]
  },
  {
   "cell_type": "markdown",
   "metadata": {},
   "source": [
    "Looking at the visitStartTime column, we can see the time is in a Unix format. This means that we have to convert the time to a local time format depending on each city or country. Doing this is a very lengthy process and since I know through my own analysis that the time column isn't very helpful for predicting revenue, let us just drop it for now.\n",
    "\n",
    "However, if you were working on a use-case such as fraud detection, I highly recommend that you put the effort to standardize the time column since it will be very helpful in such use-cases. I'll leave you with the workflow to do so for now:\n",
    "\n",
    "- First, convert the time from a Unix format into a UTC format.\n",
    "\n",
    "- Change the UTC time to the local time based on the city/country.\n",
    "\n",
    "- Extract the hour, minutes and seconds of the day. You can also account for daylight saving times to be highly accurate."
   ]
  },
  {
   "cell_type": "markdown",
   "metadata": {},
   "source": [
    "Now, next let us take care of the null values in our dataset. "
   ]
  },
  {
   "cell_type": "code",
   "execution_count": 12,
   "metadata": {
    "scrolled": true
   },
   "outputs": [
    {
     "data": {
      "text/plain": [
       "channelGrouping                                      0\n",
       "date                                                 0\n",
       "fullVisitorId                                        0\n",
       "visitId                                              0\n",
       "visitNumber                                          0\n",
       "visitStartTime                                       0\n",
       "device.browser                                       0\n",
       "device.operatingSystem                               0\n",
       "device.isMobile                                      0\n",
       "device.deviceCategory                                0\n",
       "geoNetwork.continent                                 0\n",
       "geoNetwork.subContinent                              0\n",
       "geoNetwork.country                                   0\n",
       "geoNetwork.region                                    0\n",
       "geoNetwork.metro                                     0\n",
       "geoNetwork.city                                      0\n",
       "geoNetwork.networkDomain                             0\n",
       "totals.hits                                          0\n",
       "totals.pageviews                                   100\n",
       "totals.bounces                                  453023\n",
       "totals.newVisits                                200593\n",
       "totals.transactionRevenue                       892138\n",
       "trafficSource.campaign                               0\n",
       "trafficSource.source                                 0\n",
       "trafficSource.medium                                 0\n",
       "trafficSource.keyword                           502929\n",
       "trafficSource.isTrueDirect                      629648\n",
       "trafficSource.referralPath                      572712\n",
       "trafficSource.adwordsClickInfo.page             882193\n",
       "trafficSource.adwordsClickInfo.slot             882193\n",
       "trafficSource.adwordsClickInfo.gclId            882092\n",
       "trafficSource.adwordsClickInfo.adNetworkType    882193\n",
       "trafficSource.adwordsClickInfo.isVideoAd        882193\n",
       "trafficSource.adContent                         892707\n",
       "trafficSource.campaignCode                      903652\n",
       "dtype: int64"
      ]
     },
     "execution_count": 12,
     "metadata": {},
     "output_type": "execute_result"
    }
   ],
   "source": [
    "# Printing the sum of null values for all columns in the dataset\n",
    "store_df.isnull().sum()"
   ]
  },
  {
   "cell_type": "markdown",
   "metadata": {},
   "source": [
    "There are a lot of columns with null values. Let us look at how to fill these null values with actual data using statistical reasoning by going through the columns one by one."
   ]
  },
  {
   "cell_type": "markdown",
   "metadata": {},
   "source": [
    "- totals.pageviews"
   ]
  },
  {
   "cell_type": "code",
   "execution_count": 13,
   "metadata": {},
   "outputs": [
    {
     "data": {
      "text/plain": [
       "1.0      452522\n",
       "2.0      143770\n",
       "3.0       73835\n",
       "4.0       45192\n",
       "5.0       33411\n",
       "          ...  \n",
       "309.0         1\n",
       "162.0         1\n",
       "197.0         1\n",
       "327.0         1\n",
       "249.0         1\n",
       "Name: totals.pageviews, Length: 213, dtype: int64"
      ]
     },
     "execution_count": 13,
     "metadata": {},
     "output_type": "execute_result"
    }
   ],
   "source": [
    "# Printing the counts of unique rows in the column\n",
    "store_df['totals.pageviews'].value_counts()"
   ]
  },
  {
   "cell_type": "code",
   "execution_count": 14,
   "metadata": {
    "scrolled": false
   },
   "outputs": [],
   "source": [
    "# A row of data in the session history signifies the page view was atleast 1\n",
    "store_df['totals.pageviews'].fillna(1, inplace=True)\n",
    "\n",
    "# Converting to integer data type\n",
    "store_df['totals.pageviews'] = store_df['totals.pageviews'].astype(int)"
   ]
  },
  {
   "cell_type": "markdown",
   "metadata": {},
   "source": [
    "- totals.bounces"
   ]
  },
  {
   "cell_type": "code",
   "execution_count": 15,
   "metadata": {},
   "outputs": [
    {
     "data": {
      "text/plain": [
       "1.0    450630\n",
       "Name: totals.bounces, dtype: int64"
      ]
     },
     "execution_count": 15,
     "metadata": {},
     "output_type": "execute_result"
    }
   ],
   "source": [
    "# Printing the counts of unique rows in the column\n",
    "store_df['totals.bounces'].value_counts()"
   ]
  },
  {
   "cell_type": "code",
   "execution_count": 16,
   "metadata": {},
   "outputs": [],
   "source": [
    "# The null values are 0 since only the page bounces are recorded\n",
    "store_df['totals.bounces'].fillna(0, inplace=True)\n",
    "\n",
    "# Converting to integer data type\n",
    "store_df['totals.bounces'] = store_df['totals.bounces'].astype(int)"
   ]
  },
  {
   "cell_type": "markdown",
   "metadata": {},
   "source": [
    "- totals.transactionRevenue"
   ]
  },
  {
   "cell_type": "code",
   "execution_count": 17,
   "metadata": {
    "scrolled": false
   },
   "outputs": [
    {
     "data": {
      "text/plain": [
       "16990000.0     256\n",
       "18990000.0     189\n",
       "33590000.0     187\n",
       "44790000.0     170\n",
       "13590000.0     135\n",
       "              ... \n",
       "320200000.0      1\n",
       "319900000.0      1\n",
       "319750000.0      1\n",
       "79930000.0       1\n",
       "134220000.0      1\n",
       "Name: totals.transactionRevenue, Length: 5332, dtype: int64"
      ]
     },
     "execution_count": 17,
     "metadata": {},
     "output_type": "execute_result"
    }
   ],
   "source": [
    "# Printing the counts of unique rows in the column\n",
    "store_df[\"totals.transactionRevenue\"].value_counts()"
   ]
  },
  {
   "cell_type": "code",
   "execution_count": 18,
   "metadata": {},
   "outputs": [],
   "source": [
    "# The null values are 0 since the user may not have made a purchase\n",
    "store_df[\"totals.transactionRevenue\"].fillna(0.0, inplace=True)"
   ]
  },
  {
   "cell_type": "markdown",
   "metadata": {},
   "source": [
    "- trafficSource.isTrueDirect"
   ]
  },
  {
   "cell_type": "code",
   "execution_count": 19,
   "metadata": {},
   "outputs": [
    {
     "data": {
      "text/plain": [
       "True    274005\n",
       "Name: trafficSource.isTrueDirect, dtype: int64"
      ]
     },
     "execution_count": 19,
     "metadata": {},
     "output_type": "execute_result"
    }
   ],
   "source": [
    "# Printing the counts of unique rows in the column\n",
    "store_df['trafficSource.isTrueDirect'].value_counts()"
   ]
  },
  {
   "cell_type": "code",
   "execution_count": 20,
   "metadata": {},
   "outputs": [],
   "source": [
    "# The null values are False since only the direct traffic source values have been recorded \n",
    "store_df[\"trafficSource.isTrueDirect\"].fillna(False, inplace=True)"
   ]
  },
  {
   "cell_type": "markdown",
   "metadata": {},
   "source": [
    "Similarly, we can fill up the null values in all of the remaining columns."
   ]
  },
  {
   "cell_type": "code",
   "execution_count": 21,
   "metadata": {},
   "outputs": [],
   "source": [
    "# The null values are 0 since only the new visits have been recorded \n",
    "store_df['totals.newVisits'] = store_df[\"totals.newVisits\"].fillna(0).astype(int)\n",
    "\n",
    "# Filling with the most repeated value\n",
    "store_df['trafficSource.keyword'] = store_df['trafficSource.keyword'].fillna('(not provided)')\n",
    "\n",
    "# The null values are 0 since ad clicks haven't been recorded\n",
    "store_df['trafficSource.adwordsClickInfo.page'] = store_df['trafficSource.adwordsClickInfo.page'].fillna(0).astype(int)\n",
    "\n",
    "# The null values haven't been recorded since there weren't any ads\n",
    "store_df['trafficSource.adwordsClickInfo.slot'] = store_df['trafficSource.adwordsClickInfo.slot'].fillna('NoAds')\n",
    "\n",
    "# The null values haven't been recorded since there weren't any ads\n",
    "store_df['trafficSource.adwordsClickInfo.adNetworkType'] = store_df['trafficSource.adwordsClickInfo.adNetworkType'].fillna('NoAds')\n",
    "\n",
    "# The null values haven't been recorded since there weren't any ads\n",
    "store_df['trafficSource.adwordsClickInfo.isVideoAd'] = store_df['trafficSource.adwordsClickInfo.isVideoAd'].fillna('NoAds')"
   ]
  },
  {
   "cell_type": "code",
   "execution_count": 22,
   "metadata": {},
   "outputs": [
    {
     "data": {
      "text/plain": [
       "channelGrouping                                      0\n",
       "date                                                 0\n",
       "fullVisitorId                                        0\n",
       "visitId                                              0\n",
       "visitNumber                                          0\n",
       "visitStartTime                                       0\n",
       "device.browser                                       0\n",
       "device.operatingSystem                               0\n",
       "device.isMobile                                      0\n",
       "device.deviceCategory                                0\n",
       "geoNetwork.continent                                 0\n",
       "geoNetwork.subContinent                              0\n",
       "geoNetwork.country                                   0\n",
       "geoNetwork.region                                    0\n",
       "geoNetwork.metro                                     0\n",
       "geoNetwork.city                                      0\n",
       "geoNetwork.networkDomain                             0\n",
       "totals.hits                                          0\n",
       "totals.pageviews                                     0\n",
       "totals.bounces                                       0\n",
       "totals.newVisits                                     0\n",
       "totals.transactionRevenue                            0\n",
       "trafficSource.campaign                               0\n",
       "trafficSource.source                                 0\n",
       "trafficSource.medium                                 0\n",
       "trafficSource.keyword                                0\n",
       "trafficSource.isTrueDirect                           0\n",
       "trafficSource.referralPath                      572712\n",
       "trafficSource.adwordsClickInfo.page                  0\n",
       "trafficSource.adwordsClickInfo.slot                  0\n",
       "trafficSource.adwordsClickInfo.gclId            882092\n",
       "trafficSource.adwordsClickInfo.adNetworkType         0\n",
       "trafficSource.adwordsClickInfo.isVideoAd             0\n",
       "trafficSource.adContent                         892707\n",
       "trafficSource.campaignCode                      903652\n",
       "dtype: int64"
      ]
     },
     "execution_count": 22,
     "metadata": {},
     "output_type": "execute_result"
    }
   ],
   "source": [
    "# Printing the sum of null values for all columns in the dataset\n",
    "store_df.isnull().sum()"
   ]
  },
  {
   "cell_type": "markdown",
   "metadata": {},
   "source": [
    "We will drop the remaining columns since they either are very sparse, cannot add any value to our analysis or correctly filling the null values in them is very hard."
   ]
  },
  {
   "cell_type": "code",
   "execution_count": 23,
   "metadata": {},
   "outputs": [],
   "source": [
    "# Dropped because no value addition for analysis and modeling\n",
    "store_df.drop(['trafficSource.referralPath', 'trafficSource.adwordsClickInfo.gclId', 'trafficSource.adContent', 'trafficSource.campaignCode'], axis=1, inplace=True)"
   ]
  },
  {
   "cell_type": "code",
   "execution_count": 24,
   "metadata": {},
   "outputs": [
    {
     "data": {
      "text/plain": [
       "channelGrouping                                 0\n",
       "date                                            0\n",
       "fullVisitorId                                   0\n",
       "visitId                                         0\n",
       "visitNumber                                     0\n",
       "visitStartTime                                  0\n",
       "device.browser                                  0\n",
       "device.operatingSystem                          0\n",
       "device.isMobile                                 0\n",
       "device.deviceCategory                           0\n",
       "geoNetwork.continent                            0\n",
       "geoNetwork.subContinent                         0\n",
       "geoNetwork.country                              0\n",
       "geoNetwork.region                               0\n",
       "geoNetwork.metro                                0\n",
       "geoNetwork.city                                 0\n",
       "geoNetwork.networkDomain                        0\n",
       "totals.hits                                     0\n",
       "totals.pageviews                                0\n",
       "totals.bounces                                  0\n",
       "totals.newVisits                                0\n",
       "totals.transactionRevenue                       0\n",
       "trafficSource.campaign                          0\n",
       "trafficSource.source                            0\n",
       "trafficSource.medium                            0\n",
       "trafficSource.keyword                           0\n",
       "trafficSource.isTrueDirect                      0\n",
       "trafficSource.adwordsClickInfo.page             0\n",
       "trafficSource.adwordsClickInfo.slot             0\n",
       "trafficSource.adwordsClickInfo.adNetworkType    0\n",
       "trafficSource.adwordsClickInfo.isVideoAd        0\n",
       "dtype: int64"
      ]
     },
     "execution_count": 24,
     "metadata": {},
     "output_type": "execute_result"
    }
   ],
   "source": [
    "# Printing the sum of null values for all columns in the dataset\n",
    "store_df.isnull().sum()"
   ]
  },
  {
   "cell_type": "markdown",
   "metadata": {},
   "source": [
    "Great! We've successfully completed the data cleaning process."
   ]
  },
  {
   "cell_type": "markdown",
   "metadata": {},
   "source": [
    "Finally, let us export this cleaned DataFrame to a new CSV file so that we can use it in future lessons."
   ]
  },
  {
   "cell_type": "code",
   "execution_count": 25,
   "metadata": {},
   "outputs": [],
   "source": [
    "# Exporting as a CSV file\n",
    "store_df.to_csv('data/cleaned_gstore_data.csv', header=True, index=False)"
   ]
  },
  {
   "cell_type": "markdown",
   "metadata": {},
   "source": [
    "As an exercise, I would like to encourage you to convert all of the data fields from the `object` data type to their own respective data type (bool, str, int, float, etc.). This would help to reduce the memory usage of the DataFrame and aid in cleaning the dataset even further.\n",
    "\n",
    "You can use the `astype()` method off of the DataFrame for this. Once you've done that, you can export the new DataFrame with the CSV filename `cleaned_gstore_data.csv` and use it for further lessons."
   ]
  }
 ],
 "metadata": {
  "kernelspec": {
   "display_name": "Python 3",
   "language": "python",
   "name": "python3"
  },
  "language_info": {
   "codemirror_mode": {
    "name": "ipython",
    "version": 3
   },
   "file_extension": ".py",
   "mimetype": "text/x-python",
   "name": "python",
   "nbconvert_exporter": "python",
   "pygments_lexer": "ipython3",
   "version": "3.8.6"
  }
 },
 "nbformat": 4,
 "nbformat_minor": 4
}
